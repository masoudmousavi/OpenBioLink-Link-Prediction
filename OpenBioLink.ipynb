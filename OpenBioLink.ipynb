{
  "nbformat": 4,
  "nbformat_minor": 0,
  "metadata": {
    "colab": {
      "name": "OpenBioLink.ipynb",
      "provenance": [],
      "collapsed_sections": []
    },
    "kernelspec": {
      "name": "python3",
      "display_name": "Python 3"
    },
    "language_info": {
      "name": "python"
    },
    "accelerator": "GPU"
  },
  "cells": [
    {
      "cell_type": "code",
      "metadata": {
        "id": "7FjoSWK_TT4b",
        "cellView": "form"
      },
      "source": [
        "#@title OpenBioLink Module Install EXTERNAL{ form-width: \"15%\" }\n",
        "! pip install openbiolink"
      ],
      "execution_count": null,
      "outputs": []
    },
    {
      "cell_type": "code",
      "metadata": {
        "id": "qyVfad59VpsU",
        "cellView": "form"
      },
      "source": [
        "#@title PyG Installation EXTERNAL{ form-width: \"15%\" }\n",
        "!pip install -q torch-scatter -f https://pytorch-geometric.com/whl/torch-1.9.0+cu111.html\n",
        "!pip install -q torch-sparse -f https://pytorch-geometric.com/whl/torch-1.9.0+cu111.html\n",
        "!pip install -q git+https://github.com/rusty1s/pytorch_geometric.git"
      ],
      "execution_count": null,
      "outputs": []
    },
    {
      "cell_type": "code",
      "metadata": {
        "id": "JIDIxZaJTcK2",
        "cellView": "form"
      },
      "source": [
        "#@title Module Imports HEADER { form-width: \"15%\" }\n",
        "from openbiolink.obl2021 import OBL2021Dataset\n",
        "import torch\n",
        "from torch.nn import Module,\\\n",
        "                     ModuleList,\\\n",
        "                     Embedding,\\\n",
        "                     BatchNorm1d,\\\n",
        "                     LogSoftmax,\\\n",
        "                     Softmax,\\\n",
        "                     Linear,\\\n",
        "                     NLLLoss,\\\n",
        "                     CrossEntropyLoss\n",
        "from torch.optim import Adam\n",
        "import torch.nn.functional as F\n",
        "import torch_geometric as PyG\n",
        "from torch_geometric.data import Data\n",
        "from torch_geometric.nn.conv import RGCNConv\n",
        "from torch_geometric.utils import to_networkx\n",
        "import networkx as nx\n",
        "import matplotlib.pyplot as plt\n",
        "import numpy as np\n",
        "\n",
        "from typing import NoReturn\n",
        "from enum import Enum\n",
        "from collections import defaultdict"
      ],
      "execution_count": 3,
      "outputs": []
    },
    {
      "cell_type": "code",
      "metadata": {
        "id": "_-0w2buqhHoS",
        "cellView": "form"
      },
      "source": [
        "#@title Global Variables CLASS { form-width: \"15%\" }\n",
        "class Global(Enum):\n",
        "  HEAD_INDEX = 0\n",
        "  RELATION_INDEX = 1\n",
        "  TAIL_INDEX = 2\n",
        "  FEATURE_ENG = 'one-hot'\n",
        "  NUM_RELATIONS = 28\n",
        "  DEVICE = 'cpu'\n",
        "  TRAIN_SUPERVISION_SIZE = 180000"
      ],
      "execution_count": 4,
      "outputs": []
    },
    {
      "cell_type": "code",
      "metadata": {
        "id": "7IqWPI4Bh_Q1",
        "cellView": "form"
      },
      "source": [
        "#@title add_tail_to_head(data_split) FUNCTION { form-width: \"15%\" }\n",
        "def add_tail_to_head(data_split: torch.Tensor, plus: int=dataset.num_relations) -> torch.Tensor:\n",
        "  heads = data_split[:, (0)]\n",
        "  tails = data_split[:, (-1)]\n",
        "  relations = data_split[:, (1)]\n",
        "  \n",
        "  tail_to_head = torch.vstack(\n",
        "      (tails, relations + plus, heads)\n",
        "  ).t()\n",
        "\n",
        "  return torch.cat(\n",
        "      (data_split, tail_to_head),\n",
        "      dim=0\n",
        "  )\n",
        "\n"
      ],
      "execution_count": 44,
      "outputs": []
    },
    {
      "cell_type": "code",
      "metadata": {
        "cellView": "form",
        "id": "IV0mkcK1rMhq"
      },
      "source": [
        "#@title checksum(data_subset, graph_data) FUNCTION { form-width: \"15%\" }\n",
        "def checksum(data_subset: torch.Tensor, graph_data: Data, step: int=500) -> NoReturn:\n",
        "  for i in range(step, data_subset.shape[0], step):\n",
        "    graph_head_indcs = graph_data.edge_index[0, i-step:i]\n",
        "    data_head_entities = data_subset[i-step:i, 0]\n",
        "    graph_head_entities = graph_data.x[graph_head_indcs].reshape(-1)\n",
        "\n",
        "    checksum_head = (graph_head_entities == data_head_entities).sum().item()\n",
        "    if not checksum_head == step:\n",
        "      print('head')\n",
        "      print(i)\n",
        "      break\n",
        "\n",
        "    graph_relation_indcs = graph_data.edge_type[i-step:i]\n",
        "    data_relation_types = data_subset[i-step:i, 1]\n",
        "\n",
        "    checksum_relation = (graph_relation_indcs == data_relation_types).sum().item()\n",
        "    if not checksum_relation == step:\n",
        "      print('relation')\n",
        "      print(i)\n",
        "      break\n",
        "\n",
        "    graph_tail_indcs = graph_data.edge_index[1, i-step:i]\n",
        "    data_tail_entities = data_subset[i-step:i, 2]\n",
        "    graph_tail_entities = graph_data.x[graph_tail_indcs].reshape(-1)\n",
        "\n",
        "    checksum_tail = (graph_tail_entities == data_tail_entities).sum().item()\n",
        "    if not checksum_head == step:\n",
        "      print('tail')\n",
        "      print(i)\n",
        "      break\n",
        "\n",
        "  else:\n",
        "    print('All clear :)')"
      ],
      "execution_count": 33,
      "outputs": []
    },
    {
      "cell_type": "code",
      "metadata": {
        "id": "Jmd5ucYzDcqN",
        "cellView": "form"
      },
      "source": [
        "#@title graph_data_maker(dataset, x_feature) FUNCTION{ form-width: \"15%\" }\n",
        "def graph_data_maker(dataset: torch.Tensor, x_feature: str=Global.FEATURE_ENG.value, check_for_correctness: bool=False) -> Data:\n",
        "  relation_idx = Global.RELATION_INDEX.value\n",
        "  head_idx = Global.HEAD_INDEX.value\n",
        "  tail_idx = Global.TAIL_INDEX.value\n",
        "\n",
        "  if x_feature == 'one-hot':\n",
        "    one_hot_index = 0\n",
        "    edge_index_list_flat = []\n",
        "    seen_dict = defaultdict(lambda: -1)\n",
        "    edge_index_flat = dataset[:, (head_idx, tail_idx)].reshape(-1)\n",
        "\n",
        "    for i in range(edge_index_flat.shape[0]):\n",
        "      entity = edge_index_flat[i].item()\n",
        "      if seen_dict[entity] == -1:\n",
        "        edge_index_list_flat.append(one_hot_index)\n",
        "        seen_dict[entity] = one_hot_index\n",
        "        one_hot_index += 1\n",
        "      else:\n",
        "        edge_index_list_flat.append(seen_dict[entity])\n",
        "      if i + 1 % 50000 == 0:\n",
        "        print(f'Entity {i} encoded. {i / edge_index_flat.shape[0] * 100:.2f} %')\n",
        "    edge_index = torch.tensor(edge_index_list_flat).reshape(-1, 2)\n",
        "    x = torch.tensor(list(seen_dict.keys())).reshape(-1, 1)\n",
        "\n",
        "    graph_data = Data(\n",
        "        x=x,\n",
        "        edge_index=edge_index.t().contiguous(),\n",
        "        edge_type=dataset[:, relation_idx]\n",
        "    )\n",
        "  else:\n",
        "    raise NotImplementedError('This functionality has not been implemented yet.')\n",
        "\n",
        "  if check_for_correctness:\n",
        "    checksum(dataset, graph_data)\n",
        "  return graph_data"
      ],
      "execution_count": 45,
      "outputs": []
    },
    {
      "cell_type": "code",
      "metadata": {
        "id": "M8jt1Q1RoExW",
        "cellView": "form"
      },
      "source": [
        "#@title visualize_graph(graph_data, height, width) FUNCTION{ form-width: \"15%\" }\n",
        "def visualize_graph(graph_data: Data, height: int=10, width:int=10) -> NoReturn:\n",
        "  nx_graph = to_networkx(graph_data)\n",
        "\n",
        "  pos = nx.spring_layout(nx_graph)\n",
        "\n",
        "  fig = plt.gcf()\n",
        "  fig.set_size_inches(width, height)\n",
        "\n",
        "  edge_labels = dict()\n",
        "  ei_np = graph_data.edge_index.t().numpy()\n",
        "  for edge in nx_graph.edges():\n",
        "    e = np.array(edge)\n",
        "    idx = np.where(ei_np == e)[0][0]\n",
        "    label = graph_data.edge_type[idx].item()\n",
        "    edge_labels.update({edge: label})\n",
        "    \n",
        "  nx.draw_networkx_nodes(nx_graph, pos)\n",
        "  nx.draw_networkx_edges(nx_graph, pos, connectionstyle='arc3,rad=0.2')\n",
        "  nx.draw_networkx_labels(nx_graph, pos, labels={n:graph_data.x[n].item() for n in nx_graph})\n",
        "  nx.draw_networkx_edge_labels(nx_graph, pos, edge_labels=edge_labels)\n",
        "\n",
        "  fig.show()\n"
      ],
      "execution_count": 46,
      "outputs": []
    },
    {
      "cell_type": "code",
      "metadata": {
        "id": "6EDUweUw5uvi",
        "cellView": "form"
      },
      "source": [
        "#@title GNN Model CLASS{ form-width: \"10%\" }\n",
        "class GNN(Module):\n",
        "  def __init__(self, conv_dims: list, fully_connected_dims: list, x_feature:str, dropout: dict, embedding_dims: tuple=None)-> NoReturn:\n",
        "    super(GNN, self).__init__()\n",
        "    self.mode = None # 'train' or 'test' or 'dev' later \n",
        "    self.num_relations = Global.NUM_RELATIONS.value\n",
        "    self.dropout = dropout\n",
        "    self.x_feature = x_feature\n",
        "    if x_feature == 'one_hot':\n",
        "      #one-hot to latent\n",
        "      self.embed = Embedding(embedding_dims[0], embedding_dims[1])\n",
        "      first_conv_layer = [RGCNConv(embedding_dims[1], conv_dims[0], self.num_relations)]\n",
        "    elif x_feature == 'identity':\n",
        "      first_conv_layer = [RGCNConv(1, conv_dims[0], self.num_relations)]\n",
        "    conv_list = first_conv_layer + \\\n",
        "                                [\n",
        "                                  RGCNConv(conv_dims[i], conv_dims[i+1], self.num_relations)\n",
        "                                  for i in range(len(conv_dims[:-1]))\n",
        "                                ]\n",
        "  \n",
        "\n",
        "    # fully_connected_list =   [\n",
        "    #                             Linear(2*conv_dims[-1], fully_connected_dims[0])\n",
        "    #                          ] + \\\n",
        "    #                          [\n",
        "    #                             Linear(fully_connected_dims[i], fully_connected_dims[i+1])\n",
        "    #                             for i in range(len(fully_connected_dims[:-1]))\n",
        "    #                          ] + \\\n",
        "    #                          [\n",
        "    #                             Linear(fully_connected_dims[-1], self.output_dim)\n",
        "    #                          ]\n",
        "\n",
        "    #graph conv layers\n",
        "    self.conv_layers = ModuleList(conv_list)\n",
        "\n",
        "    #fully connected dense layers\n",
        "    # self.fully_connected_layers = ModuleList(fully_connected_list)\n",
        "\n",
        "    self.classifier = LogSoftmax(dim=1)\n",
        "\n",
        "    \n",
        "  def reset_parameters(self):\n",
        "    self.embed.reset_parameters\n",
        "    for conv in self.conv_layers:\n",
        "        conv.reset_parameters()\n",
        "    # for fc in self.fully_connected_layers:\n",
        "    #     fc.reset_parameters()\n",
        "      \n",
        "\n",
        "  def forward(self, data: Data) -> torch.Tensor:\n",
        "    edge_index = data.edge_index\n",
        "    x = data.x\n",
        "    edge_type = data.edge_type\n",
        "    ####################################### Encoder: Embedding #######################################\n",
        "    if self.x_feature == 'one_hot':\n",
        "      x = self.embed(x)\n",
        "    elif self.x_feature == 'identity':\n",
        "      x = torch.ones(x.shape)\n",
        "    if self.training:\n",
        "      x = F.dropout(x, p=self.dropout[\"emb\"])\n",
        "    ####################################### Encoder: RGCN #######################################\n",
        "    for conv in self.conv_layers[:-1]:\n",
        "      x = conv(x, edge_index=edge_index, edge_type=edge_type)\n",
        "      x = F.relu(x)\n",
        "      if self.training:\n",
        "        x = F.dropout(x, p=self.dropout[\"conv\"])\n",
        "\n",
        "    x = self.conv_layers[-1](x, edge_index, edge_type)\n",
        "    if self.training:\n",
        "      x = F.dropout(x, p=self.dropout[\"conv\"])\n",
        "\n",
        "    ####################################### Decoder #######################################\n",
        "    return x\n"
      ],
      "execution_count": 47,
      "outputs": []
    },
    {
      "cell_type": "code",
      "metadata": {
        "id": "TQgtc8R5TNzC"
      },
      "source": [
        "#@title Dataset Load and Train/Val/Test Split MAIN { form-width: \"15%\" }\n",
        "dataset = OBL2021Dataset()\n",
        "train_set = dataset.training # torch.tensor of shape(num_train,3)\n",
        "val_set = dataset.validation # torch.tensor of shape(num_val,3)\n",
        "test_set = dataset.testing   # torch.tensor of shape(num_train,3)\n",
        "\n",
        "train_supervision, train_messaging = torch.split(\n",
        "    train_set,\n",
        "    split_size_or_sections=(\n",
        "        Global.TRAIN_SUPERVISION_SIZE.value,\n",
        "        train_set.shape[0] - Global.TRAIN_SUPERVISION_SIZE.value\n",
        "    )\n",
        ")\n",
        "train_supervision_data_loader = torch.split(train_supervision, split_size_or_sections=32)\n",
        "train_supervision_negative_samples = [None for _ in range(32)]\n",
        "for i in range(32):\n",
        "  heads = train_supervision_data_loader[i][:, 0]\n",
        "  relations = train_supervision_data_loader[i][:, 1]\n",
        "  tails = train_supervision_data_loader[i][:, -1]\n",
        "  negative_samples = torch.vstack(\n",
        "      (heads, relations, torch.multinomial(dataset.candidates.type(torch.float), 32))\n",
        "  ).t().contiguous()\n",
        "  train_supervision_negative_samples[i] = negative_samples\n",
        "knowledge_graph = torch.cat(\n",
        "    (dataset.training, dataset.validation, dataset.testing),\n",
        "    dim=0\n",
        ")\n",
        "\n",
        "for _index, mini_batch in enumerate(train_supervision_negative_samples):\n",
        "  for __index, candidate in enumerate(mini_batch):\n",
        "    is_corrupt = not any(np.equal(knowledge_graph.numpy(), candidate.numpy().tolist()).all(1))\n",
        "    if not is_corrupt:\n",
        "      print(f'{candidate} is not a true corrupted edge')\n"
      ],
      "execution_count": null,
      "outputs": []
    },
    {
      "cell_type": "code",
      "metadata": {
        "id": "C3sp-5Lyarrb"
      },
      "source": [
        "#@title Graph Maker MAIN { form-width: \"15%\" }\n",
        "feature_eng_method = Global.FEATURE_ENG.value\n",
        "train_graph = graph_data_maker(train_set, x_feature=feature_eng_method)\n",
        "# test_graph = graph_data_maker(test_set, x_feature=feature_eng_method)\n",
        "# val_graph = graph_data_maker(val_set, x_feature=feature_eng_method)"
      ],
      "execution_count": 48,
      "outputs": []
    },
    {
      "cell_type": "code",
      "metadata": {
        "id": "aaarJu2fzJ68"
      },
      "source": [
        "#@title Visualization OPTIONAL-MAIN { form-width: \"15%\" }\n",
        "data_subset = train_set[:2500, :]\n",
        "graph_data = graph_data_maker(data_subset, 'one-hot')\n",
        "visualize_graph(graph_data, 100, 100)"
      ],
      "execution_count": null,
      "outputs": []
    },
    {
      "cell_type": "code",
      "metadata": {
        "id": "Uq9CoeHZ7SHP"
      },
      "source": [
        "#@title Model and Hyperparameters MAIN { form-width: \"15%\" }\n",
        "model = GNN(\n",
        "    x_feature='identity',\n",
        "    conv_dims=[16, 16, 16], \n",
        "    fully_connected_dims=[1], \n",
        "    dropout={\n",
        "        \"emb\": 0.01,\n",
        "        \"conv\": 0.01,\n",
        "        \"fc\": 0.01\n",
        "    }\n",
        ").to(Global.DEVICE.value)"
      ],
      "execution_count": null,
      "outputs": []
    },
    {
      "cell_type": "code",
      "metadata": {
        "colab": {
          "base_uri": "https://localhost:8080/"
        },
        "id": "gWqUr6R777Kd",
        "outputId": "59b329fe-74e5-41ac-dd20-2224cd89b564"
      },
      "source": [
        "model(train_graph).shape"
      ],
      "execution_count": null,
      "outputs": [
        {
          "output_type": "execute_result",
          "data": {
            "text/plain": [
              "torch.Size([180992, 16])"
            ]
          },
          "metadata": {},
          "execution_count": 16
        }
      ]
    },
    {
      "cell_type": "code",
      "metadata": {
        "id": "4ciX_cKCvMHY",
        "cellView": "form"
      },
      "source": [
        "#@title\n",
        "! pip install deepsnap\n",
        "import deepsnap\n",
        "\n",
        "\n",
        "NX_graph = PyG.utils.to_networkx(train_graph)\n",
        "SX_graph = deepsnap.graph.Graph(NX_graph)\n",
        "\n",
        "SX_graph\n",
        "SX_graph.negative_sampling(SX_graph.edge_index, SX_graph.num_nodes, 100)"
      ],
      "execution_count": null,
      "outputs": []
    }
  ]
}