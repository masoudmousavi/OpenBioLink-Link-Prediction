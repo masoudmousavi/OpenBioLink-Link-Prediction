{
  "nbformat": 4,
  "nbformat_minor": 0,
  "metadata": {
    "colab": {
      "name": "OpenBioLink.ipynb",
      "provenance": [],
      "collapsed_sections": [
        "kmgN5oJGLhLT",
        "WWRXIyTVeK93",
        "O3doXenteXFa",
        "BYfNTZJFe812",
        "Q2vzpaRVecRw",
        "c7j9JFT2fLCW",
        "05DipN6ULa5K"
      ]
    },
    "kernelspec": {
      "name": "python3",
      "display_name": "Python 3"
    },
    "language_info": {
      "name": "python"
    },
    "accelerator": "GPU"
  },
  "cells": [
    {
      "cell_type": "markdown",
      "metadata": {
        "id": "kmgN5oJGLhLT"
      },
      "source": [
        "# EXTERNAL"
      ]
    },
    {
      "cell_type": "code",
      "metadata": {
        "id": "7FjoSWK_TT4b",
        "colab": {
          "base_uri": "https://localhost:8080/"
        },
        "cellView": "form",
        "outputId": "05c48fd8-95a5-4dff-df91-daacea0938de"
      },
      "source": [
        "#@title OpenBioLink Module Install EXTERNAL{ form-width: \"15%\" }\n",
        "! pip install openbiolink\n"
      ],
      "execution_count": 1,
      "outputs": [
        {
          "output_type": "stream",
          "name": "stdout",
          "text": [
            "Collecting openbiolink\n",
            "  Downloading openbiolink-0.1.4-py3-none-any.whl (226 kB)\n",
            "\u001b[?25l\r\u001b[K     |█▌                              | 10 kB 14.5 MB/s eta 0:00:01\r\u001b[K     |███                             | 20 kB 10.9 MB/s eta 0:00:01\r\u001b[K     |████▍                           | 30 kB 8.8 MB/s eta 0:00:01\r\u001b[K     |█████▉                          | 40 kB 8.1 MB/s eta 0:00:01\r\u001b[K     |███████▎                        | 51 kB 5.7 MB/s eta 0:00:01\r\u001b[K     |████████▊                       | 61 kB 5.8 MB/s eta 0:00:01\r\u001b[K     |██████████▏                     | 71 kB 5.0 MB/s eta 0:00:01\r\u001b[K     |███████████▋                    | 81 kB 5.6 MB/s eta 0:00:01\r\u001b[K     |█████████████                   | 92 kB 5.6 MB/s eta 0:00:01\r\u001b[K     |██████████████▌                 | 102 kB 5.4 MB/s eta 0:00:01\r\u001b[K     |████████████████                | 112 kB 5.4 MB/s eta 0:00:01\r\u001b[K     |█████████████████▍              | 122 kB 5.4 MB/s eta 0:00:01\r\u001b[K     |██████████████████▉             | 133 kB 5.4 MB/s eta 0:00:01\r\u001b[K     |████████████████████▎           | 143 kB 5.4 MB/s eta 0:00:01\r\u001b[K     |█████████████████████▊          | 153 kB 5.4 MB/s eta 0:00:01\r\u001b[K     |███████████████████████▏        | 163 kB 5.4 MB/s eta 0:00:01\r\u001b[K     |████████████████████████▋       | 174 kB 5.4 MB/s eta 0:00:01\r\u001b[K     |██████████████████████████      | 184 kB 5.4 MB/s eta 0:00:01\r\u001b[K     |███████████████████████████▌    | 194 kB 5.4 MB/s eta 0:00:01\r\u001b[K     |█████████████████████████████   | 204 kB 5.4 MB/s eta 0:00:01\r\u001b[K     |██████████████████████████████▍ | 215 kB 5.4 MB/s eta 0:00:01\r\u001b[K     |███████████████████████████████▉| 225 kB 5.4 MB/s eta 0:00:01\r\u001b[K     |████████████████████████████████| 226 kB 5.4 MB/s \n",
            "\u001b[?25hRequirement already satisfied: tqdm>=4.29.1 in /usr/local/lib/python3.7/dist-packages (from openbiolink) (4.62.3)\n",
            "Requirement already satisfied: pandas>=0.23.4 in /usr/local/lib/python3.7/dist-packages (from openbiolink) (1.1.5)\n",
            "Requirement already satisfied: click in /usr/local/lib/python3.7/dist-packages (from openbiolink) (7.1.2)\n",
            "Requirement already satisfied: numpy in /usr/local/lib/python3.7/dist-packages (from openbiolink) (1.19.5)\n",
            "Requirement already satisfied: torch in /usr/local/lib/python3.7/dist-packages (from openbiolink) (1.10.0+cu111)\n",
            "Requirement already satisfied: python-dateutil>=2.7.3 in /usr/local/lib/python3.7/dist-packages (from pandas>=0.23.4->openbiolink) (2.8.2)\n",
            "Requirement already satisfied: pytz>=2017.2 in /usr/local/lib/python3.7/dist-packages (from pandas>=0.23.4->openbiolink) (2018.9)\n",
            "Requirement already satisfied: six>=1.5 in /usr/local/lib/python3.7/dist-packages (from python-dateutil>=2.7.3->pandas>=0.23.4->openbiolink) (1.15.0)\n",
            "Requirement already satisfied: typing-extensions in /usr/local/lib/python3.7/dist-packages (from torch->openbiolink) (3.10.0.2)\n",
            "Installing collected packages: openbiolink\n",
            "Successfully installed openbiolink-0.1.4\n"
          ]
        }
      ]
    },
    {
      "cell_type": "code",
      "metadata": {
        "id": "qyVfad59VpsU",
        "cellView": "form",
        "colab": {
          "base_uri": "https://localhost:8080/"
        },
        "outputId": "cde9a658-b0aa-4810-d3ad-c0beffc8a160"
      },
      "source": [
        "#@title PyG 113 Installation EXTERNAL{ form-width: \"15%\" }\n",
        "!pip install -q torch-scatter -f https://data.pyg.org/whl/torch-1.10.0+cu113.html\n",
        "!pip install -q torch-sparse -f https://data.pyg.org/whl/torch-1.10.0+cu113.html\n",
        "!pip install -q git+https://github.com/rusty1s/pytorch_geometric.git"
      ],
      "execution_count": 2,
      "outputs": [
        {
          "output_type": "stream",
          "name": "stdout",
          "text": [
            "\u001b[K     |████████████████████████████████| 7.9 MB 5.0 MB/s \n",
            "\u001b[K     |████████████████████████████████| 3.5 MB 5.3 MB/s \n",
            "\u001b[K     |████████████████████████████████| 407 kB 5.3 MB/s \n",
            "\u001b[K     |████████████████████████████████| 45 kB 2.3 MB/s \n",
            "\u001b[?25h  Building wheel for torch-geometric (setup.py) ... \u001b[?25l\u001b[?25hdone\n"
          ]
        }
      ]
    },
    {
      "cell_type": "markdown",
      "metadata": {
        "id": "WWRXIyTVeK93"
      },
      "source": [
        "# HEADER"
      ]
    },
    {
      "cell_type": "code",
      "metadata": {
        "id": "JIDIxZaJTcK2",
        "cellView": "form"
      },
      "source": [
        "#@title Module Imports HEADER { form-width: \"15%\" }\n",
        "from openbiolink.obl2021 import OBL2021Dataset, OBL2021Evaluator\n",
        "import torch\n",
        "from torch.nn import Module,\\\n",
        "                     ModuleList,\\\n",
        "                     Embedding,\\\n",
        "                     BatchNorm1d,\\\n",
        "                     LogSoftmax,\\\n",
        "                     Softmax,\\\n",
        "                     Linear,\\\n",
        "                     NLLLoss,\\\n",
        "                     CrossEntropyLoss\n",
        "from torch.optim import Adam\n",
        "import torch.nn.functional as F\n",
        "import torch_geometric as PyG\n",
        "from torch_geometric.data import Data\n",
        "from torch_geometric.nn.conv import RGCNConv\n",
        "from torch_geometric.utils import to_networkx\n",
        "import networkx as nx\n",
        "import matplotlib.pyplot as plt\n",
        "import numpy as np\n",
        "from tqdm import tqdm\n",
        "from typing import NoReturn\n",
        "import typing\n",
        "from enum import Enum\n",
        "from collections import defaultdict"
      ],
      "execution_count": 3,
      "outputs": []
    },
    {
      "cell_type": "markdown",
      "metadata": {
        "id": "O3doXenteXFa"
      },
      "source": [
        "# GLOBAL \n",
        "<!-- ###now CPU -->"
      ]
    },
    {
      "cell_type": "code",
      "metadata": {
        "id": "_-0w2buqhHoS",
        "colab": {
          "base_uri": "https://localhost:8080/"
        },
        "cellView": "form",
        "outputId": "d8f99685-edb5-4452-8831-9c85c17e99bf"
      },
      "source": [
        "#@title Global Variables CLASS now CPU{ form-width: \"15%\" }\n",
        "class Global(Enum):\n",
        "  HEAD_INDEX = 0\n",
        "  RELATION_INDEX = 1\n",
        "  TAIL_INDEX = 2\n",
        "  FEATURE_ENG = 'one-hot'\n",
        "  NUM_RELATIONS = 28\n",
        "  DEVICE = 'cuda' if torch.cuda.is_available() else 'cpu'\n",
        "  # DEVICE = 'cpu'\n",
        "  MINI_BATCH_SIZE = 32\n",
        "  EVAL_BATCH_SIZE = 100\n",
        "  VAL_HITS_AT = 50\n",
        "  TEST_HITS_AT = 50\n",
        "\n",
        "\n",
        "dataset = OBL2021Dataset()\n",
        "kg = torch.cat((dataset.training, dataset.validation, dataset.testing), dim=0)\n",
        "sorted_on_tails_indcs_kg = torch.sort(kg[:, Global.TAIL_INDEX.value])[1]\n",
        "kg_sorted_tails = kg[sorted_on_tails_indcs_kg]\n",
        "sorted_on_heads_indcs_kg = torch.sort(kg[:, Global.HEAD_INDEX.value])[1]\n",
        "kg_sorted_heads = kg[sorted_on_heads_indcs_kg]\n",
        "train_set = dataset.training.to(Global.DEVICE.value) # torch.tensor of shape(num_train,3)\n",
        "val_set = dataset.validation.to(Global.DEVICE.value) # torch.tensor of shape(num_val,3)\n",
        "test_set = dataset.testing.to(Global.DEVICE.value)   # torch.tensor of shape(num_train,3)"
      ],
      "execution_count": 16,
      "outputs": [
        {
          "output_type": "stream",
          "name": "stdout",
          "text": [
            "Dataset found in /content/obl2021, omitting download...\n"
          ]
        }
      ]
    },
    {
      "cell_type": "code",
      "metadata": {
        "colab": {
          "base_uri": "https://localhost:8080/"
        },
        "id": "q3jfP08sy60W",
        "outputId": "8a70e9fe-cf3e-47b8-ee44-03da78aa98dd"
      },
      "source": [
        "dataset.get_test_batches(100)"
      ],
      "execution_count": 5,
      "outputs": [
        {
          "output_type": "execute_result",
          "data": {
            "text/plain": [
              "(1810,\n",
              " <generator object split_list_in_batches_iter.<locals>.<genexpr> at 0x7fe3f4ab0f50>)"
            ]
          },
          "metadata": {},
          "execution_count": 5
        }
      ]
    },
    {
      "cell_type": "markdown",
      "metadata": {
        "id": "BYfNTZJFe812"
      },
      "source": [
        "# GNN Model and Hyperparameters"
      ]
    },
    {
      "cell_type": "code",
      "metadata": {
        "id": "6EDUweUw5uvi",
        "cellView": "form"
      },
      "source": [
        "#@title GNN Model CLASS{ form-width: \"10%\" }\n",
        "class GNN(Module):\n",
        "  def __init__(self, conv_dims: list, fully_connected_dims: list, x_feature:str, dropout: dict, embedding_dims: tuple=None)-> NoReturn:\n",
        "    super(GNN, self).__init__()\n",
        "    self.mode = None # 'train' or 'test' or 'dev' later \n",
        "    self.num_relations = Global.NUM_RELATIONS.value\n",
        "    self.dropout = dropout\n",
        "    self.x_feature = x_feature\n",
        "    # relation_weights_list = [Linear(conv_dims[-1], conv_dims[-1], bias=False) for _ in range(28)]\n",
        "    # self.relation_weights = ModuleList(relation_weights_list)\n",
        "    if x_feature == 'one-hot':\n",
        "      #one-hot to latent\n",
        "      self.entity_embedder = Embedding(embedding_dims[0], embedding_dims[1])\n",
        "      self.relation_embedder = Embedding(28, conv_dims[-1])\n",
        "      first_conv_layer = [RGCNConv(embedding_dims[1], conv_dims[0], self.num_relations)]\n",
        "    elif x_feature == 'identity':\n",
        "      first_conv_layer = [RGCNConv(1, conv_dims[0], self.num_relations)]\n",
        "    conv_list = first_conv_layer + \\\n",
        "                                [\n",
        "                                  RGCNConv(conv_dims[i], conv_dims[i+1], self.num_relations)\n",
        "                                  for i in range(len(conv_dims[:-1]))\n",
        "                                ]\n",
        "  \n",
        "\n",
        "    # fully_connected_list =   [\n",
        "    #                             Linear(conv_dims[-1], fully_connected_dims[0])\n",
        "    #                          ] + \\\n",
        "    #                          [\n",
        "    #                             Linear(fully_connected_dims[i], fully_connected_dims[i+1])\n",
        "    #                             for i in range(len(fully_connected_dims[:-1]))\n",
        "    #                          ] \n",
        "\n",
        "    #graph conv layers\n",
        "    self.conv_layers = ModuleList(conv_list)\n",
        "\n",
        "    #fully connected dense layers\n",
        "    # self.fully_connected_layers = ModuleList(fully_connected_list)\n",
        "\n",
        "    # self.classifier = LogSoftmax(dim=1)\n",
        "\n",
        "    \n",
        "  def reset_parameters(self):\n",
        "    self.entity_embedder.reset_parameters()\n",
        "    self.relation_embedder.reset_parameters()\n",
        "    for conv in self.conv_layers:\n",
        "        conv.reset_parameters()\n",
        "    # for fc in self.fully_connected_layers:\n",
        "    #     fc.reset_parameters()\n",
        "      \n",
        "\n",
        "  def forward(self, data: Data) -> torch.Tensor:\n",
        "    edge_index = data.edge_index_messaging\n",
        "    x = data.x\n",
        "    edge_type = data.edge_type_messaging\n",
        "\n",
        "    # print(x.shape)\n",
        "    # return\n",
        "\n",
        "    # latent = list()\n",
        "      # last_index = 0\n",
        "      # for i in range(0, x.shape[0] - 1024, 1024):\n",
        "      #   latent.append(self.embed(x[i: i+1024, :]))\n",
        "      #   last_index = i\n",
        "      # last_latent = self.embed(x[last_index:, : ]).reshape(-1, self.embed.weight.shape[1])\n",
        "      # partial_latent_space = torch.stack(latent).reshape(-1, self.embed.weight.shape[1])\n",
        "      # x = torch.cat(\n",
        "      #     (partial_latent_space, last_latent),\n",
        "      #     dim=0 \n",
        "      # )\n",
        "\n",
        "    ####################################### ONE - HOT #######################################\n",
        "    if self.x_feature == 'one-hot':\n",
        "      x = self.entity_embedder(x).reshape(self.entity_embedder.weight.shape[0], -1)\n",
        "\n",
        "      \n",
        "    ####################################### Encoder: RGCN #######################################\n",
        "      \n",
        "    ############################################## IDENTITY ################################################\n",
        "    elif self.x_feature == 'identity':\n",
        "      x = torch.ones(x.shape[0], 1) ############\n",
        "      if self.training:\n",
        "        x = F.dropout(x, p=self.dropout[\"emb\"])\n",
        "      print(f'Embedding {x.shape}')\n",
        "    ####################################### Encoder: RGCN #######################################\n",
        "    for conv in self.conv_layers[:-1]:\n",
        "      x = conv(x, edge_index=edge_index, edge_type=edge_type)\n",
        "      x = F.relu(x)\n",
        "      if self.training:\n",
        "        x = F.dropout(x, p=self.dropout[\"conv\"])\n",
        "    x = self.conv_layers[-1](x, edge_index, edge_type)\n",
        "    if self.training:\n",
        "      x = F.dropout(x, p=self.dropout[\"conv\"])\n",
        "\n",
        "    # x[head] + v[relation] -> x[tail]\n",
        "    # < x[head] . v[relation] . x[tail] >\n",
        "\n",
        "    \n",
        "    # return\n",
        "    # supervision_edge_index = torch.cat((data.edge_index_supervision, data.edge_index_negative), dim=1)\n",
        "    # supervision_edge_type = torch.cat((data.edge_type_supervision, data.edge_type_negative))\n",
        "    # which_one_is_which = torch.cat(\n",
        "    #     (torch.zeros_like(data.edge_type_supervision), torch.ones_like(data.edge_type_negative))\n",
        "    # ).to(Global.DEVICE.value)\n",
        "\n",
        "    # random_permutation = torch.randperm(supervision_edge_type.shape[0])\n",
        "    # heads = supervision_edge_index[0][random_permutation]\n",
        "    # tails = supervision_edge_index[1][random_permutation]\n",
        "    # relations = supervision_edge_type[random_permutation]\n",
        "    # which_one_is_which = which_one_is_which[random_permutation]\n",
        "\n",
        "    # n_scores = list()\n",
        "    # p_scores = list()\n",
        "    # for index in range(heads.shape[0]):\n",
        "    #   weights = self.relation_weights[relations[index]]\n",
        "    #   head = x[heads[index]]\n",
        "    #   tail = x[tails[index]] \n",
        "    #   score = weights(head) @ tail \n",
        "    #   if which_one_is_which[index].item() == 1:\n",
        "    #     p_scores.append(score)\n",
        "    #   elif which_one_is_which[index].item() == 0:\n",
        "    #     n_scores.append(score)\n",
        "    # return torch.stack(p_scores), torch.stack(n_scores)\n",
        "\n",
        "\n",
        "    # for index, p_edge_relation in enumerate(data.edge_type_supervision):\n",
        "    #   weights = self.relation_weights[p_edge_relation]\n",
        "    #   head = x[data.edge_index_supervision[0, index]]\n",
        "    #   tail = x[data.edge_index_supervision[1, index]]\n",
        "    #   score = weights(head) @ tail \n",
        "    #   p_scores.append(score)\n",
        "    \n",
        "    ####################################### Decoder #######################################\n",
        "\n",
        "    positive_heads = x[data.edge_index_supervision[0]]\n",
        "    positive_tails = x[data.edge_index_supervision[1]]\n",
        "    positive_relations = self.relation_embedder(data.edge_type_supervision)\n",
        "\n",
        "    negative_heads = x[data.edge_index_negative[0]]\n",
        "    negative_tails = x[data.edge_index_negative[1]]\n",
        "    negative_relations = self.relation_embedder(data.edge_type_negative)\n",
        "\n",
        "    return (positive_heads * positive_relations * positive_tails).sum(dim=1), \\\n",
        "           (negative_heads * negative_relations * negative_tails).sum(dim=1)\n",
        "    \n",
        "\n",
        "    \n"
      ],
      "execution_count": 6,
      "outputs": []
    },
    {
      "cell_type": "code",
      "metadata": {
        "id": "Uq9CoeHZ7SHP",
        "colab": {
          "base_uri": "https://localhost:8080/"
        },
        "cellView": "form",
        "outputId": "90809e41-7250-4c93-fb6f-6b8992a5a6d5"
      },
      "source": [
        "#@title Model and Hyperparameters MAIN { form-width: \"15%\" }\n",
        "model = GNN(\n",
        "    x_feature='one-hot',\n",
        "    conv_dims=[32, 64, 64, 64],\n",
        "    embedding_dims=(dataset.candidates.max() + 1, 32),\n",
        "    fully_connected_dims=[1], \n",
        "    dropout={\n",
        "        \"emb\": 0.1,\n",
        "        \"conv\": 0.2,\n",
        "        \"fc\": 0.01\n",
        "    }\n",
        ").to(Global.DEVICE.value)\n",
        "print(model)\n",
        "loss_fn = torch.nn.BCEWithLogitsLoss()\n",
        "opt = Adam(model.parameters())"
      ],
      "execution_count": 7,
      "outputs": [
        {
          "output_type": "stream",
          "name": "stdout",
          "text": [
            "GNN(\n",
            "  (entity_embedder): Embedding(180992, 32)\n",
            "  (relation_embedder): Embedding(28, 64)\n",
            "  (conv_layers): ModuleList(\n",
            "    (0): RGCNConv(32, 32, num_relations=28)\n",
            "    (1): RGCNConv(32, 64, num_relations=28)\n",
            "    (2): RGCNConv(64, 64, num_relations=28)\n",
            "    (3): RGCNConv(64, 64, num_relations=28)\n",
            "  )\n",
            ")\n"
          ]
        }
      ]
    },
    {
      "cell_type": "markdown",
      "metadata": {
        "id": "Q2vzpaRVecRw"
      },
      "source": [
        "#FUNCTIONS"
      ]
    },
    {
      "cell_type": "code",
      "metadata": {
        "id": "WweaTsWIf9SI",
        "cellView": "form"
      },
      "source": [
        "\n",
        "#@title #TODO  use psuedo_negative method mini_batch_maker() FUNCTION #TODO { form-width: \"15%\" }\n",
        "\n",
        "def mini_batch_maker(messaging, supervision, candidates, x_feature='one-hot'):\n",
        "  heads = supervision[:, 0]\n",
        "  relations = supervision[:, 1]\n",
        "  tails = supervision[:, -1]\n",
        "\n",
        "  ct_size = supervision.shape[0] // 2\n",
        "  ch_size = supervision.shape[0] - ct_size\n",
        "\n",
        "  negative_samples_corrupted_tails = torch.vstack(\n",
        "      (\n",
        "          heads[: ct_size], \n",
        "          relations[: ct_size], \n",
        "          torch.multinomial(\n",
        "              candidates.type(torch.float).to(Global.DEVICE.value), \n",
        "              ct_size\n",
        "          )\n",
        "      )\n",
        "  ).t().contiguous()\n",
        "\n",
        "  negative_samples_corrupted_heads = torch.vstack(\n",
        "      ( \n",
        "          torch.multinomial(\n",
        "              candidates.type(torch.float).to(Global.DEVICE.value), \n",
        "              ch_size\n",
        "          ), \n",
        "          relations[ch_size:], \n",
        "          tails[ch_size:]\n",
        "      )\n",
        "  ).t().contiguous()\n",
        "\n",
        "  negative_samples = torch.cat(\n",
        "      (negative_samples_corrupted_heads, negative_samples_corrupted_tails),\n",
        "      dim=0\n",
        "  )\n",
        "\n",
        "  # for __index, candidate in enumerate(negative_samples):\n",
        "  #   is_corrupt = not any(np.equal(knowledge_graph.numpy(), candidate.numpy().tolist()).all(1))\n",
        "  #   if not is_corrupt:\n",
        "  #     print(f'{candidate} is not a true corrupted edge')\n",
        "\n",
        "  graph = graph_data_maker(\n",
        "      messaging=messaging,\n",
        "      supervision=supervision,\n",
        "      negative_samples=negative_samples,\n",
        "      x=candidates.to(Global.DEVICE.value),\n",
        "      x_feature='one-hot'\n",
        "  )\n",
        "\n",
        "  return graph"
      ],
      "execution_count": 8,
      "outputs": []
    },
    {
      "cell_type": "code",
      "metadata": {
        "id": "bI94NPZcHanb",
        "cellView": "form"
      },
      "source": [
        "#@title graph_data_maker(dataset, x_feature) FUNCTION{ form-width: \"15%\" }\n",
        "def graph_data_maker(messaging: torch.Tensor, supervision: torch.Tensor, negative_samples: torch.Tensor, x:torch.Tensor, x_feature: str=Global.FEATURE_ENG.value, check_for_correctness: bool=False) -> Data:\n",
        "  relation_idx = Global.RELATION_INDEX.value\n",
        "  head_idx = Global.HEAD_INDEX.value\n",
        "  tail_idx = Global.TAIL_INDEX.value\n",
        "  graph_data = Data(\n",
        "        x=x.reshape(-1, 1),\n",
        "        edge_index_messaging=messaging[:, (head_idx, tail_idx)].t().contiguous(),\n",
        "        edge_type_messaging=messaging[:, relation_idx],\n",
        "        edge_index_supervision=supervision[:, (head_idx, tail_idx)].t().contiguous(),\n",
        "        edge_type_supervision=supervision[:, relation_idx],\n",
        "        edge_index_negative=negative_samples[:, (head_idx, tail_idx)].t().contiguous(),\n",
        "        edge_type_negative=negative_samples[:, (relation_idx)]\n",
        "    )\n",
        "  return graph_data\n"
      ],
      "execution_count": 9,
      "outputs": []
    },
    {
      "cell_type": "code",
      "metadata": {
        "id": "d87ZALUBYec9",
        "cellView": "form"
      },
      "source": [
        "#@title find_start_and_end_indcs() PRIVATE-FUNCTION { form-width: \"15%\" }\n",
        "def find_start_and_end_indcs(entity, entity_type, kg_sorted):\n",
        "  up = kg_sorted.shape[0]\n",
        "  down = 0\n",
        "  indx = kg_sorted.shape[0] // 2\n",
        "  found = False\n",
        "  if entity_type == Global.TAIL_INDEX.value:\n",
        "    bound = 1\n",
        "  elif entity_type == Global.HEAD_INDEX.value:\n",
        "    bound = 0\n",
        "  while down + bound < up:\n",
        "    if kg_sorted[indx][entity_type].item() == entity:\n",
        "      found = True\n",
        "      break \n",
        "    elif kg_sorted[indx][entity_type].item() >= entity: \n",
        "      up = indx\n",
        "      indx = (up + down) // 2\n",
        "    else:\n",
        "      down = indx \n",
        "      indx = (up + down) // 2\n",
        "  if not found:\n",
        "    return None\n",
        "  while 1:\n",
        "    indx += 1\n",
        "    try:\n",
        "      if not kg_sorted[indx][entity_type].item() == entity:\n",
        "        indx -= 1\n",
        "        end_indx = indx\n",
        "        break\n",
        "    except:\n",
        "      end_indx = indx - 1\n",
        "      break\n",
        "  \n",
        "\n",
        "  while 1:\n",
        "    indx -= 1\n",
        "    try:\n",
        "      if not kg_sorted[indx][entity_type].item() == entity:\n",
        "        indx += 1\n",
        "        start_indx = indx\n",
        "        break\n",
        "    except:\n",
        "      start_indx = indx + 1\n",
        "      break\n",
        "  return torch.tensor(range(start_indx, end_indx + 1))"
      ],
      "execution_count": 10,
      "outputs": []
    },
    {
      "cell_type": "code",
      "metadata": {
        "id": "WYPeOqPxkFtD",
        "cellView": "form"
      },
      "source": [
        "#@title get_psuedo_negative_entities() FUNCTIONS { form-width: \"15%\" }\n",
        "def get_psuedo_negative_entities(entity, corrupt_at, kg_sorted):\n",
        "  if corrupt_at == Global.HEAD_INDEX.value:\n",
        "    entity_type = Global.TAIL_INDEX.value \n",
        "  elif corrupt_at == Global.TAIL_INDEX.value:\n",
        "    entity_type = Global.HEAD_INDEX.value\n",
        "  indcs = find_start_and_end_indcs(entity, entity_type, kg_sorted=kg_sorted)\n",
        "  if indcs is not None:\n",
        "    fact_triplets_entities = kg_sorted[indcs][:, corrupt_at]\n",
        "    return torch.tensor([ _ for _ in range(dataset.candidates.shape[0]) if _ not in fact_triplets_entities.tolist()]).to(Global.DEVICE.value)\n",
        "  else:\n",
        "    return dataset.candidates.to(Global.DEVICE.value)\n"
      ],
      "execution_count": 11,
      "outputs": []
    },
    {
      "cell_type": "code",
      "metadata": {
        "cellView": "form",
        "id": "qbO6PxCfnuiD"
      },
      "source": [
        "#@title train(model, graph, optimizer, loss_fn) FUNCTION{ form-width: \"15%\" }\n",
        "def train(model: GNN, graph: Data, optimizer: torch.optim, loss_fn:torch.nn.modules.loss) -> tuple((torch.float, torch.Tensor, torch.Tensor)):\n",
        "  optimizer.zero_grad()\n",
        "  model.train()\n",
        "  positive, negative = model(graph)\n",
        "  loss = loss_fn(\n",
        "            negative, \n",
        "            torch.zeros(graph.edge_index_negative.shape[1]).to(Global.DEVICE.value)\n",
        "         ) + loss_fn(\n",
        "                positive,\n",
        "                torch.ones(graph.edge_index_supervision.shape[1]).to(Global.DEVICE.value)\n",
        "            )\n",
        "  loss.backward()\n",
        "  optimizer.step()\n",
        "  return loss.item(), torch.sigmoid(positive), torch.sigmoid(negative)"
      ],
      "execution_count": 12,
      "outputs": []
    },
    {
      "cell_type": "code",
      "metadata": {
        "cellView": "form",
        "id": "CcSjKWmGyYuj"
      },
      "source": [
        "#@title evaluation_rank() PRIVATE-FUNCTION { form-width: \"15%\" }\n",
        "@torch.no_grad()\n",
        "def evaluation_rank(model, eval_set, messaging_set):\n",
        "  h_pred_top10 = list()\n",
        "  t_pred_top10 = list()\n",
        "\n",
        "  for eval_triplet in tqdm(eval_set):\n",
        "    head = eval_triplet[Global.HEAD_INDEX.value].item()\n",
        "    relation = eval_triplet[Global.RELATION_INDEX.value].item()\n",
        "    tail = eval_triplet[Global.TAIL_INDEX.value].item()\n",
        "    corrupted_tails = get_psuedo_negative_entities(\n",
        "        entity=head, \n",
        "        corrupt_at=Global.TAIL_INDEX.value, \n",
        "        kg_sorted=kg_sorted_heads\n",
        "    )\n",
        "    num_psuedo_negative_triples = corrupted_tails.shape[0]\n",
        "    psuedo_negative_triplets_tail = torch.vstack(\n",
        "        (\n",
        "            torch.ones(num_psuedo_negative_triples).to(Global.DEVICE.value).type(torch.long) * head,\n",
        "            torch.ones(num_psuedo_negative_triples).to(Global.DEVICE.value).type(torch.long) * relation,\n",
        "            corrupted_tails\n",
        "        )\n",
        "    ).t().to(Global.DEVICE.value)\n",
        "\n",
        "    corrupted_heads = get_psuedo_negative_entities(\n",
        "        entity=tail, \n",
        "        corrupt_at=Global.HEAD_INDEX.value, \n",
        "        kg_sorted=kg_sorted_tails\n",
        "    )\n",
        "    num_psuedo_negative_triples = corrupted_heads.shape[0]\n",
        "    psuedo_negative_triplets_head = torch.vstack(\n",
        "        (\n",
        "            corrupted_heads,\n",
        "            torch.ones(num_psuedo_negative_triples).to(Global.DEVICE.value).type(torch.long) * relation,\n",
        "            torch.ones(num_psuedo_negative_triples).to(Global.DEVICE.value).type(torch.long) * tail\n",
        "        )\n",
        "    ).t().to(Global.DEVICE.value)\n",
        "\n",
        "    # eval_triplet: (h, r, t)\n",
        "    # psuedo_negative_triplets_head: (h′, r, t) for all h′\n",
        "    # psuedo_negative_triplets_tail: (h, r, t′) for all t′\n",
        "\n",
        "    # train_set being the messaging graph, calculate the score for (h, r, t)\n",
        "    # train_set being the messaging graph, calculate the scores for all (h′, r, t)\n",
        "    # train_set being the messaging graph, calculate the scores for all (h, r, t′)\n",
        "\n",
        "    graph_data_for_object_tail = graph_data_maker(\n",
        "      messaging=messaging_set,\n",
        "      supervision=eval_triplet.reshape(1, 3),\n",
        "      negative_samples=psuedo_negative_triplets_tail,\n",
        "      x=dataset.candidates.to(Global.DEVICE.value),\n",
        "      x_feature='one-hot'\n",
        "    )\n",
        "    graph_data_for_object_head = graph_data_maker(\n",
        "            messaging=messaging_set,\n",
        "            supervision=eval_triplet.reshape(1, 3),\n",
        "            negative_samples=psuedo_negative_triplets_head,\n",
        "            x=dataset.candidates.to(Global.DEVICE.value),\n",
        "            x_feature='one-hot'\n",
        "    )\n",
        "    model.eval()\n",
        "    scores_for_object_tail = torch.cat(model(graph_data_for_object_tail))\n",
        "    model.eval()\n",
        "    scores_for_object_head = torch.cat(model(graph_data_for_object_head))\n",
        "\n",
        "    sorted_by_scores_tails_indcs = torch.sort(scores_for_object_tail, descending=True)[1]\n",
        "    tail_objects = torch.cat((graph_data_for_object_tail.edge_index_supervision[1], graph_data_for_object_tail.edge_index_negative[1]))\n",
        "    top10_tails = tail_objects[sorted_by_scores_tails_indcs][:10]\n",
        "    t_pred_top10.append(top10_tails)\n",
        "\n",
        "    sorted_by_scores_heads_indcs = torch.sort(scores_for_object_head, descending=True)[1]\n",
        "    head_objects = torch.cat((graph_data_for_object_head.edge_index_supervision[0], graph_data_for_object_head.edge_index_negative[0]))\n",
        "    top10_heads = head_objects[sorted_by_scores_heads_indcs][:10]\n",
        "    h_pred_top10.append(top10_heads)\n",
        "\n",
        "  model.train()\n",
        "  return torch.stack(h_pred_top10), torch.stack(t_pred_top10)"
      ],
      "execution_count": 17,
      "outputs": []
    },
    {
      "cell_type": "code",
      "metadata": {
        "id": "kzR8BWA0N628",
        "cellView": "form"
      },
      "source": [
        "#@title evaluate_hits_at_10(model, mode) FUNCTION{ form-width: \"15%\" }\n",
        "def evaluate_hits_at_10(model: GNN, mode:str) -> torch.float:\n",
        "  if mode == 'validation':\n",
        "    head_objects_top10, tail_objects_top10 = evaluation_rank(model, val_set, train_set)\n",
        "    return OBL2021Evaluator().eval(\n",
        "            head_objects_top10,\n",
        "            tail_objects_top10,\n",
        "            val_set,\n",
        "            False\n",
        "          )\n",
        "  elif mode == 'testing':\n",
        "    head_objects_top10, tail_objects_top10 = evaluation_rank(model, test_set, torch.cat((train_set, val_set), dim=0))\n",
        "    return OBL2021Evaluator().eval(\n",
        "            head_objects_top10,\n",
        "            tail_objects_top10,\n",
        "            test_set,\n",
        "            False\n",
        "          )\n"
      ],
      "execution_count": 14,
      "outputs": []
    },
    {
      "cell_type": "markdown",
      "metadata": {
        "id": "c7j9JFT2fLCW"
      },
      "source": [
        "#Trainer"
      ]
    },
    {
      "cell_type": "code",
      "metadata": {
        "id": "U5SkTuG_8R1v",
        "colab": {
          "base_uri": "https://localhost:8080/"
        },
        "outputId": "aab1f320-01f7-43e2-a336-a91fdfe83aa6"
      },
      "source": [
        "# @title Parameter and Hyperparameter Tuning MAIN{ form-width: \"10%\" }\n",
        "model.reset_parameters()\n",
        "try:\n",
        "  for epoch in range(5):\n",
        "    iteration = 0\n",
        "  ############################## TRAIN Graph Maker #####################################\n",
        "    for i in tqdm(range(0, train_set.shape[0] - Global.MINI_BATCH_SIZE.value, Global.MINI_BATCH_SIZE.value)):\n",
        "      iteration += 1\n",
        "      train_supervision = train_set[i: i + Global.MINI_BATCH_SIZE.value, :]\n",
        "      train_messaging = torch.cat(\n",
        "          (train_set[: i, :], train_set[i + Global.MINI_BATCH_SIZE.value: , :]),\n",
        "          dim=0\n",
        "      )\n",
        "      train_graph = mini_batch_maker(\n",
        "          train_messaging,\n",
        "          train_supervision,\n",
        "          dataset.candidates,\n",
        "          'one-hot'\n",
        "      )\n",
        "      loss, positive_score, negative_score = train(model, train_graph, opt, loss_fn)\n",
        "      if iteration % 50 == 0:\n",
        "        print(' ')\n",
        "        agg_p_score = positive_score.sum().item()\n",
        "        agg_n_score = negative_score.sum().item()\n",
        "        print(f'Train Batch {iteration}:')\n",
        "        print(f'Loss:        {loss: .4f}')\n",
        "        print(f'Agg P-Score: {agg_p_score: .4f}')\n",
        "        print(f'Agg N-Score: {agg_n_score: .4f}')\n",
        "        print(f'===' * 25)\n",
        "      if iteration % 5000 == 0:\n",
        "        pass\n",
        "except KeyboardInterrupt:\n",
        "  pass\n"
      ],
      "execution_count": null,
      "outputs": [
        {
          "output_type": "stream",
          "name": "stderr",
          "text": [
            "  0%|          | 50/131000 [01:07<49:10:43,  1.35s/it]"
          ]
        },
        {
          "output_type": "stream",
          "name": "stdout",
          "text": [
            " \n",
            "Train Batch 50:\n",
            "Loss:         2.3223\n",
            "Agg P-Score:  21.1231\n",
            "Agg N-Score:  12.1451\n",
            "===========================================================================\n"
          ]
        },
        {
          "output_type": "stream",
          "name": "stderr",
          "text": [
            "  0%|          | 100/131000 [02:15<49:14:10,  1.35s/it]"
          ]
        },
        {
          "output_type": "stream",
          "name": "stdout",
          "text": [
            " \n",
            "Train Batch 100:\n",
            "Loss:         1.5020\n",
            "Agg P-Score:  25.4672\n",
            "Agg N-Score:  11.9946\n",
            "===========================================================================\n"
          ]
        },
        {
          "output_type": "stream",
          "name": "stderr",
          "text": [
            "  0%|          | 150/131000 [03:23<49:06:27,  1.35s/it]"
          ]
        },
        {
          "output_type": "stream",
          "name": "stdout",
          "text": [
            " \n",
            "Train Batch 150:\n",
            "Loss:         1.3240\n",
            "Agg P-Score:  23.1589\n",
            "Agg N-Score:  10.8246\n",
            "===========================================================================\n"
          ]
        },
        {
          "output_type": "stream",
          "name": "stderr",
          "text": [
            "  0%|          | 200/131000 [04:30<49:02:16,  1.35s/it]"
          ]
        },
        {
          "output_type": "stream",
          "name": "stdout",
          "text": [
            " \n",
            "Train Batch 200:\n",
            "Loss:         1.6546\n",
            "Agg P-Score:  22.1971\n",
            "Agg N-Score:  13.1241\n",
            "===========================================================================\n"
          ]
        },
        {
          "output_type": "stream",
          "name": "stderr",
          "text": [
            "  0%|          | 250/131000 [05:38<49:03:45,  1.35s/it]"
          ]
        },
        {
          "output_type": "stream",
          "name": "stdout",
          "text": [
            " \n",
            "Train Batch 250:\n",
            "Loss:         1.1897\n",
            "Agg P-Score:  24.1424\n",
            "Agg N-Score:  12.8308\n",
            "===========================================================================\n"
          ]
        },
        {
          "output_type": "stream",
          "name": "stderr",
          "text": [
            "  0%|          | 300/131000 [06:45<49:04:23,  1.35s/it]"
          ]
        },
        {
          "output_type": "stream",
          "name": "stdout",
          "text": [
            " \n",
            "Train Batch 300:\n",
            "Loss:         1.0038\n",
            "Agg P-Score:  25.0980\n",
            "Agg N-Score:  11.9898\n",
            "===========================================================================\n"
          ]
        },
        {
          "output_type": "stream",
          "name": "stderr",
          "text": [
            "  0%|          | 307/131000 [06:55<49:08:24,  1.35s/it]"
          ]
        }
      ]
    },
    {
      "cell_type": "markdown",
      "metadata": {
        "id": "Qs-CPM6MflBB"
      },
      "source": [
        "# TEST EVALUATION"
      ]
    },
    {
      "cell_type": "code",
      "metadata": {
        "colab": {
          "base_uri": "https://localhost:8080/"
        },
        "id": "nHH3QX0W6blV",
        "outputId": "421fe3ef-7b1e-4099-bf1f-7e00abae80fa"
      },
      "source": [
        "try:\n",
        "  evaluate_hits_at_10(model, 'testing')\n",
        "except KeyboardInterrupt:\n",
        "  pass"
      ],
      "execution_count": 18,
      "outputs": [
        {
          "output_type": "stream",
          "name": "stderr",
          "text": [
            "  0%|          | 0/180964 [00:18<?, ?it/s]\n"
          ]
        }
      ]
    },
    {
      "cell_type": "markdown",
      "metadata": {
        "id": "05DipN6ULa5K"
      },
      "source": [
        "# ADD-ONS\n"
      ]
    },
    {
      "cell_type": "code",
      "metadata": {
        "id": "7IqWPI4Bh_Q1",
        "cellView": "form"
      },
      "source": [
        "#@title add_tail_to_head(data_split) FUNCTION { form-width: \"15%\" }\n",
        "def add_tail_to_head(data_split: torch.Tensor, plus: int=28) -> torch.Tensor:\n",
        "  heads = data_split[:, (0)]\n",
        "  tails = data_split[:, (-1)]\n",
        "  relations = data_split[:, (1)]\n",
        "  \n",
        "  tail_to_head = torch.vstack(\n",
        "      (tails, relations + plus, heads)\n",
        "  ).t()\n",
        "\n",
        "  return torch.cat(\n",
        "      (data_split, tail_to_head),\n",
        "      dim=0\n",
        "  )\n",
        "\n"
      ],
      "execution_count": null,
      "outputs": []
    },
    {
      "cell_type": "code",
      "metadata": {
        "id": "IV0mkcK1rMhq",
        "cellView": "form"
      },
      "source": [
        "#@title checksum(data_subset, graph_data) FUNCTION { form-width: \"15%\" }\n",
        "def checksum(data_subset: torch.Tensor, graph_data: Data, step: int=500) -> NoReturn:\n",
        "  for i in range(step, data_subset.shape[0], step):\n",
        "    graph_head_indcs = graph_data.edge_index[0, i-step:i]\n",
        "    data_head_entities = data_subset[i-step:i, 0]\n",
        "    graph_head_entities = graph_data.x[graph_head_indcs].reshape(-1)\n",
        "\n",
        "    checksum_head = (graph_head_entities == data_head_entities).sum().item()\n",
        "    if not checksum_head == step:\n",
        "      print('head')\n",
        "      print(i)\n",
        "      break\n",
        "\n",
        "    graph_relation_indcs = graph_data.edge_type[i-step:i]\n",
        "    data_relation_types = data_subset[i-step:i, 1]\n",
        "\n",
        "    checksum_relation = (graph_relation_indcs == data_relation_types).sum().item()\n",
        "    if not checksum_relation == step:\n",
        "      print('relation')\n",
        "      print(i)\n",
        "      break\n",
        "\n",
        "    graph_tail_indcs = graph_data.edge_index[1, i-step:i]\n",
        "    data_tail_entities = data_subset[i-step:i, 2]\n",
        "    graph_tail_entities = graph_data.x[graph_tail_indcs].reshape(-1)\n",
        "\n",
        "    checksum_tail = (graph_tail_entities == data_tail_entities).sum().item()\n",
        "    if not checksum_head == step:\n",
        "      print('tail')\n",
        "      print(i)\n",
        "      break\n",
        "\n",
        "  else:\n",
        "    print('All clear :)')"
      ],
      "execution_count": null,
      "outputs": []
    },
    {
      "cell_type": "code",
      "metadata": {
        "id": "Jmd5ucYzDcqN",
        "cellView": "form"
      },
      "source": [
        "#@title partial_graph_data_maker(dataset, x_feature) FUNCTION{ form-width: \"15%\" }\n",
        "def partial_graph_data_maker(messaging: torch.Tensor, supervision: torch.Tensor, negative_samples: torch.Tensor, x_feature: str=Global.FEATURE_ENG.value, check_for_correctness: bool=False) -> Data:\n",
        "  relation_idx = Global.RELATION_INDEX.value\n",
        "  head_idx = Global.HEAD_INDEX.value\n",
        "  tail_idx = Global.TAIL_INDEX.value\n",
        "\n",
        "\n",
        "  if x_feature == 'one-hot':\n",
        "    one_hot_index = 0\n",
        "    edge_index_list_flat = []\n",
        "    seen_dict = defaultdict(lambda: -1)\n",
        "    edge_index_flat = messaging[:, (head_idx, tail_idx)].reshape(-1)\n",
        "\n",
        "    for i in range(edge_index_flat.shape[0]):\n",
        "      entity = edge_index_flat[i].item()\n",
        "      if seen_dict[entity] == -1:\n",
        "        edge_index_list_flat.append(one_hot_index)\n",
        "        seen_dict[entity] = one_hot_index\n",
        "        one_hot_index += 1\n",
        "      else:\n",
        "        edge_index_list_flat.append(seen_dict[entity])\n",
        "      if i + 1 % 50000 == 0:\n",
        "        print(f'Entity {i} encoded. {i / edge_index_flat.shape[0] * 100:.2f} %')\n",
        "    edge_index_messaging = torch.tensor(edge_index_list_flat).reshape(-1, 2)\n",
        "    ##############################################################\n",
        "    edge_index_flat = supervision[:, (head_idx, tail_idx)].reshape(-1)\n",
        "    edge_index_list_flat = []\n",
        "\n",
        "    for i in range(edge_index_flat.shape[0]):\n",
        "      entity = edge_index_flat[i].item()\n",
        "      if seen_dict[entity] == -1:\n",
        "        edge_index_list_flat.append(one_hot_index)\n",
        "        seen_dict[entity] = one_hot_index\n",
        "        one_hot_index += 1\n",
        "      else:\n",
        "        edge_index_list_flat.append(seen_dict[entity])\n",
        "      if i + 1 % 50000 == 0:\n",
        "        print(f'Entity {i} encoded. {i / edge_index_flat.shape[0] * 100:.2f} %')\n",
        "    edge_index_supervision = torch.tensor(edge_index_list_flat).reshape(-1, 2)\n",
        "    ##############################################################\n",
        "    edge_index_flat = negative_samples[:, (head_idx, tail_idx)].reshape(-1)\n",
        "    edge_index_list_flat = []\n",
        "\n",
        "    for i in range(edge_index_flat.shape[0]):\n",
        "      entity = edge_index_flat[i].item()\n",
        "      if seen_dict[entity] == -1:\n",
        "        edge_index_list_flat.append(one_hot_index)\n",
        "        seen_dict[entity] = one_hot_index\n",
        "        one_hot_index += 1\n",
        "      else:\n",
        "        edge_index_list_flat.append(seen_dict[entity])\n",
        "      if i + 1 % 50000 == 0:\n",
        "        print(f'Entity {i} encoded. {i / edge_index_flat.shape[0] * 100:.2f} %')\n",
        "    edge_index_negative = torch.tensor(edge_index_list_flat).reshape(-1, 2)\n",
        "    ##############################################################\n",
        "    x = torch.tensor(list(seen_dict.keys())).reshape(-1, 1)\n",
        "\n",
        "    graph_data = Data(\n",
        "        x=x,\n",
        "        edge_index_messaging=edge_index_messaging.t().contiguous(),\n",
        "        edge_type_messaging=messaging[:, relation_idx],\n",
        "        edge_index_supervision=edge_index_supervision.t().contiguous(),\n",
        "        edge_type_supervision=supervision[:, relation_idx],\n",
        "        edge_index_negative=edge_index_negative.t().contiguous(),\n",
        "        edge_type_negative=negative_samples[:, (relation_idx)]\n",
        "    )\n",
        "  else:\n",
        "    raise NotImplementedError('This functionality has not been implemented yet.')\n",
        "\n",
        "  if check_for_correctness:\n",
        "    checksum(dataset, graph_data)\n",
        "  return graph_data"
      ],
      "execution_count": null,
      "outputs": []
    },
    {
      "cell_type": "code",
      "metadata": {
        "id": "M8jt1Q1RoExW",
        "cellView": "form"
      },
      "source": [
        "#@title visualize_graph(graph_data, height, width) FUNCTION{ form-width: \"15%\" }\n",
        "def visualize_graph(graph_data: Data, height: int=10, width:int=10) -> NoReturn:\n",
        "  nx_graph = to_networkx(graph_data)\n",
        "\n",
        "  pos = nx.spring_layout(nx_graph)\n",
        "\n",
        "  fig = plt.gcf()\n",
        "  fig.set_size_inches(width, height)\n",
        "\n",
        "  edge_labels = dict()\n",
        "  ei_np = graph_data.edge_index.t().numpy()\n",
        "  for edge in nx_graph.edges():\n",
        "    e = np.array(edge)\n",
        "    idx = np.where(ei_np == e)[0][0]\n",
        "    label = graph_data.edge_type[idx].item()\n",
        "    edge_labels.update({edge: label})\n",
        "    \n",
        "  nx.draw_networkx_nodes(nx_graph, pos)\n",
        "  nx.draw_networkx_edges(nx_graph, pos, connectionstyle='arc3,rad=0.2')\n",
        "  nx.draw_networkx_labels(nx_graph, pos, labels={n:graph_data.x[n].item() for n in nx_graph})\n",
        "  nx.draw_networkx_edge_labels(nx_graph, pos, edge_labels=edge_labels)\n",
        "\n",
        "  fig.show()\n"
      ],
      "execution_count": null,
      "outputs": []
    },
    {
      "cell_type": "code",
      "metadata": {
        "id": "aaarJu2fzJ68",
        "cellView": "form"
      },
      "source": [
        "#@title Visualization OPTIONAL-MAIN { form-width: \"15%\" }\n",
        "data_subset = train_set[:2500, :]\n",
        "graph_data = graph_data_maker(data_subset, 'one-hot')\n",
        "visualize_graph(graph_data, 100, 100)"
      ],
      "execution_count": null,
      "outputs": []
    }
  ]
}